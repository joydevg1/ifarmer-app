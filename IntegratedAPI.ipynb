{
  "nbformat": 4,
  "nbformat_minor": 0,
  "metadata": {
    "colab": {
      "name": "IntegratedAPI.ipynb",
      "provenance": []
    },
    "kernelspec": {
      "name": "python3",
      "display_name": "Python 3"
    },
    "language_info": {
      "name": "python"
    },
    "accelerator": "GPU"
  },
  "cells": [
    {
      "cell_type": "code",
      "metadata": {
        "id": "0bv5C4HCKrxh"
      },
      "source": [
        "import os                       # for working with files\n",
        "import numpy as np              # for numerical computationss\n",
        "import pandas as pd             # for working with dataframes\n",
        "import matplotlib.pyplot as plt # for plotting informations on graph and images using tensors\n",
        "import json\n",
        "from PIL import Image\n",
        "from typing import List\n",
        "import io\n",
        "import sys\n",
        "from pydantic import BaseModel\n",
        "from tensorflow.keras.models import load_model\n",
        "import torch                    # Pytorch module \n",
        "from torch.utils.data import DataLoader # for dataloaders\n",
        "import torchvision.transforms as transforms   # for transforming images into tensors \n",
        "from torchvision.utils import make_grid       # for data checking\n",
        "from torchvision.datasets import ImageFolder  # for working with classes and images\n",
        "from torchsummary import summary              # for getting the summary of our model\n",
        "import torch.nn as nn\n",
        "import torch.nn.functional as F\n",
        "from fastapi import FastAPI, File, UploadFile, HTTPException\n",
        "from colabcode import ColabCode\n",
        "import pickle\n",
        "from fastapi.middleware.cors import CORSMiddleware\n",
        "%matplotlib inline"
      ],
      "execution_count": 54,
      "outputs": []
    },
    {
      "cell_type": "code",
      "metadata": {
        "id": "9IrBvQN_LKik",
        "colab": {
          "base_uri": "https://localhost:8080/"
        },
        "outputId": "7b60de70-faab-4750-be66-88d24925e412"
      },
      "source": [
        "!pip install flask_restful\n",
        "!pip install colabcode\n",
        "!pip install pydantic\n",
        "!pip install fastapi\n",
        "!pip install python-multipart"
      ],
      "execution_count": 55,
      "outputs": [
        {
          "output_type": "stream",
          "name": "stdout",
          "text": [
            "Requirement already satisfied: fastapi in /usr/local/lib/python3.7/dist-packages (0.68.1)\n",
            "Requirement already satisfied: pydantic!=1.7,!=1.7.1,!=1.7.2,!=1.7.3,!=1.8,!=1.8.1,<2.0.0,>=1.6.2 in /usr/local/lib/python3.7/dist-packages (from fastapi) (1.8.2)\n",
            "Requirement already satisfied: starlette==0.14.2 in /usr/local/lib/python3.7/dist-packages (from fastapi) (0.14.2)\n",
            "Requirement already satisfied: typing-extensions>=3.7.4.3 in /usr/local/lib/python3.7/dist-packages (from pydantic!=1.7,!=1.7.1,!=1.7.2,!=1.7.3,!=1.8,!=1.8.1,<2.0.0,>=1.6.2->fastapi) (3.7.4.3)\n",
            "Requirement already satisfied: python-multipart in /usr/local/lib/python3.7/dist-packages (0.0.5)\n",
            "Requirement already satisfied: six>=1.4.0 in /usr/local/lib/python3.7/dist-packages (from python-multipart) (1.15.0)\n"
          ]
        }
      ]
    },
    {
      "cell_type": "code",
      "metadata": {
        "id": "WOQLkQ5r_Qp_"
      },
      "source": [
        "with open('crop_dict.json') as json_file:\n",
        "    data1 = json.load(json_file)"
      ],
      "execution_count": 56,
      "outputs": []
    },
    {
      "cell_type": "code",
      "metadata": {
        "id": "kvFyQxL2_VUC"
      },
      "source": [
        "app = FastAPI()\n",
        "#api = Api(app)"
      ],
      "execution_count": 57,
      "outputs": []
    },
    {
      "cell_type": "code",
      "metadata": {
        "id": "kxQ3SRNpOqQV"
      },
      "source": [
        "def ConvBlock(in_channels, out_channels, pool=False):\n",
        "    layers = [nn.Conv2d(in_channels, out_channels, kernel_size=3, padding=1),\n",
        "             nn.BatchNorm2d(out_channels),\n",
        "             nn.ReLU(inplace=True)]\n",
        "    if pool:\n",
        "        layers.append(nn.MaxPool2d(4))\n",
        "    return nn.Sequential(*layers)\n",
        "\n",
        "\n",
        "# Model Architecture\n",
        "class ResNet9(nn.Module):\n",
        "    def __init__(self, in_channels, num_diseases):\n",
        "        super().__init__()\n",
        "        \n",
        "        self.conv1 = ConvBlock(in_channels, 64)\n",
        "        self.conv2 = ConvBlock(64, 128, pool=True) # out_dim : 128 x 64 x 64 \n",
        "        self.res1 = nn.Sequential(ConvBlock(128, 128), ConvBlock(128, 128))\n",
        "        \n",
        "        self.conv3 = ConvBlock(128, 256, pool=True) # out_dim : 256 x 16 x 16\n",
        "        self.conv4 = ConvBlock(256, 512, pool=True) # out_dim : 512 x 4 x 44\n",
        "        self.res2 = nn.Sequential(ConvBlock(512, 512), ConvBlock(512, 512))\n",
        "        \n",
        "        self.classifier = nn.Sequential(nn.MaxPool2d(4),\n",
        "                                       nn.Flatten(),\n",
        "                                       nn.Linear(512, num_diseases))\n",
        "        \n",
        "    def forward(self, xb): # xb is the loaded batch\n",
        "        out = self.conv1(xb)\n",
        "        out = self.conv2(out)\n",
        "        out = self.res1(out) + out\n",
        "        out = self.conv3(out)\n",
        "        out = self.conv4(out)\n",
        "        out = self.res2(out) + out\n",
        "        out = self.classifier(out)\n",
        "        return out"
      ],
      "execution_count": 58,
      "outputs": []
    },
    {
      "cell_type": "code",
      "metadata": {
        "id": "ZUf9B7BhLEqU"
      },
      "source": [
        "PATH = 'plant-disease-model-complete.pth'\n",
        "disease_model = torch.load(PATH,map_location ='cpu')\n",
        "#model = pickle.load(open('cropped_model.pkl','rb'))"
      ],
      "execution_count": 59,
      "outputs": []
    },
    {
      "cell_type": "code",
      "metadata": {
        "id": "uvDL_3adLpco"
      },
      "source": [
        "def predict_image(img, model=disease_model):\n",
        "    \"\"\"\n",
        "    Transforms image to tensor and predicts disease label\n",
        "    :params: image\n",
        "    :return: prediction (string)\n",
        "    \"\"\"\n",
        "    yb = model(img)\n",
        "    # Pick index with highest probability\n",
        "    _, preds = torch.max(yb, dim=1)\n",
        "    prediction = disease_classes[preds[0].item()]\n",
        "    # Retrieve the class label\n",
        "    return prediction"
      ],
      "execution_count": 60,
      "outputs": []
    },
    {
      "cell_type": "code",
      "metadata": {
        "id": "xQhJppVOLja9"
      },
      "source": [
        "disease_classes = ['Apple___Apple_scab',\n",
        "                   'Apple___Black_rot',\n",
        "                   'Apple___Cedar_apple_rust',\n",
        "                   'Apple___healthy',\n",
        "                   'Blueberry___healthy',\n",
        "                   'Cherry_(including_sour)___Powdery_mildew',\n",
        "                   'Cherry_(including_sour)___healthy',\n",
        "                   'Corn_(maize)___Cercospora_leaf_spot Gray_leaf_spot',\n",
        "                   'Corn_(maize)___Common_rust_',\n",
        "                   'Corn_(maize)___Northern_Leaf_Blight',\n",
        "                   'Corn_(maize)___healthy',\n",
        "                   'Grape___Black_rot',\n",
        "                   'Grape___Esca_(Black_Measles)',\n",
        "                   'Grape___Leaf_blight_(Isariopsis_Leaf_Spot)',\n",
        "                   'Grape___healthy',\n",
        "                   'Orange___Haunglongbing_(Citrus_greening)',\n",
        "                   'Peach___Bacterial_spot',\n",
        "                   'Peach___healthy',\n",
        "                   'Pepper,_bell___Bacterial_spot',\n",
        "                   'Pepper,_bell___healthy',\n",
        "                   'Potato___Early_blight',\n",
        "                   'Potato___Late_blight',\n",
        "                   'Potato___healthy',\n",
        "                   'Raspberry___healthy',\n",
        "                   'Soybean___healthy',\n",
        "                   'Squash___Powdery_mildew',\n",
        "                   'Strawberry___Leaf_scorch',\n",
        "                   'Strawberry___healthy',\n",
        "                   'Tomato___Bacterial_spot',\n",
        "                   'Tomato___Early_blight',\n",
        "                   'Tomato___Late_blight',\n",
        "                   'Tomato___Leaf_Mold',\n",
        "                   'Tomato___Septoria_leaf_spot',\n",
        "                   'Tomato___Spider_mites Two-spotted_spider_mite',\n",
        "                   'Tomato___Target_Spot',\n",
        "                   'Tomato___Tomato_Yellow_Leaf_Curl_Virus',\n",
        "                   'Tomato___Tomato_mosaic_virus',\n",
        "                   'Tomato___healthy']\n",
        "PATH = 'plant-disease-model-complete.pth'"
      ],
      "execution_count": 61,
      "outputs": []
    },
    {
      "cell_type": "code",
      "metadata": {
        "id": "haegKCzN_udP"
      },
      "source": [
        "transform = transforms.Compose([\n",
        "        transforms.Resize(256),\n",
        "        transforms.ToTensor(),\n",
        "    ])\n",
        "\n",
        "class Crop(BaseModel):\n",
        "    N: float \n",
        "    K: float \n",
        "    P: float \n",
        "    temperature: float \n",
        "    humidity: float \n",
        "    ph: float \n",
        "    rainfall: float \n",
        "    class Config:\n",
        "        schema_extra = {\n",
        "            \"example\": {\n",
        "                \"N\": 93, \n",
        "                \"K\": 56, \n",
        "                \"P\": 42,\n",
        "                \"temperature\": 23.857240,\n",
        "                \"humidity\": 82.225730,\n",
        "                \"ph\": 7.382763,\n",
        "                \"rainfall\": 195.094831\n",
        "            }\n",
        "        }\n",
        "\n",
        "class Prediction(BaseModel):\n",
        "  filename: str\n",
        "  contenttype: str\n",
        "  prediction: str\n",
        "# Define the /prediction route\n"
      ],
      "execution_count": 62,
      "outputs": []
    },
    {
      "cell_type": "code",
      "metadata": {
        "id": "D47Dq_sWDPpt"
      },
      "source": [
        "@app.on_event(\"startup\")\n",
        "def load_model():\n",
        "    global model\n",
        "    model = pickle.load(open(\"cropped_model.pkl\", \"rb\"))\n",
        "\n",
        "@app.get('/')\n",
        "def index():\n",
        "    return {'message': 'This is the homepage of the API '}\n",
        "\n",
        "\n",
        "@app.post('/cropprediction')\n",
        "def get_crop_prediction(data: Crop):\n",
        "    received = data.dict()\n",
        "    N = received['N']\n",
        "    K = received['K']\n",
        "    P = received['P']\n",
        "    temperature = received['temperature']\n",
        "    humidity = received['humidity']\n",
        "    ph = received['ph']\n",
        "    rainfall = received['rainfall']\n",
        "    pred_name = model.predict([[N, K, P,\n",
        "                                temperature, humidity, ph, rainfall]]).tolist()[0]\n",
        "    #print(str(pred_name))\n",
        "    return {'prediction': data1[str(pred_name)]}\n",
        "\n",
        "@app.post('/cropdiseaseprediction/', response_model=Prediction)\n",
        "async def prediction_route(file: UploadFile = File(...)):\n",
        "    contents = await file.read()\n",
        "    image = Image.open(io.BytesIO(contents))\n",
        "    img_t = transform(image)\n",
        "    img_u = torch.unsqueeze(img_t, 0)\n",
        "    prediction = predict_image(img_u,disease_model)\n",
        "    return {\n",
        "      'filename': file.filename,\n",
        "      'contenttype': file.content_type,\n",
        "      'prediction': prediction\n",
        "    }\n"
      ],
      "execution_count": 63,
      "outputs": []
    },
    {
      "cell_type": "code",
      "metadata": {
        "id": "-o-9Sj90H0ga"
      },
      "source": [
        "origins = [\n",
        "    \"http://localhost\",\n",
        "    \"http://localhost:8080\",\n",
        "    \"http://localhost:3002\",\n",
        "]\n",
        "app.add_middleware(\n",
        "    CORSMiddleware,\n",
        "    allow_origins=origins,\n",
        "    allow_credentials=True,\n",
        "    allow_methods=[\"*\"],\n",
        "    allow_headers=[\"*\"],\n",
        ")"
      ],
      "execution_count": 64,
      "outputs": []
    },
    {
      "cell_type": "code",
      "metadata": {
        "id": "MbJcbcs2MhXN"
      },
      "source": [
        "\n",
        "server = ColabCode(port=10000, code=False)"
      ],
      "execution_count": 65,
      "outputs": []
    },
    {
      "cell_type": "code",
      "metadata": {
        "colab": {
          "base_uri": "https://localhost:8080/"
        },
        "id": "EYBPqhWCMjrn",
        "outputId": "b362b1c8-1e19-40b8-ad1b-f217b0477b9b"
      },
      "source": [
        "server.run_app(app=app)"
      ],
      "execution_count": 66,
      "outputs": [
        {
          "output_type": "stream",
          "name": "stdout",
          "text": [
            "Public URL: NgrokTunnel: \"https://e769-35-231-147-163.ngrok.io\" -> \"http://localhost:10000\"\n"
          ]
        },
        {
          "output_type": "stream",
          "name": "stderr",
          "text": [
            "INFO:     Started server process [467]\n",
            "INFO:     Waiting for application startup.\n",
            "INFO:     Application startup complete.\n",
            "INFO:     Uvicorn running on http://127.0.0.1:10000 (Press CTRL+C to quit)\n"
          ]
        },
        {
          "output_type": "stream",
          "name": "stdout",
          "text": [
            "INFO:     27.7.22.252:0 - \"GET / HTTP/1.1\" 200 OK\n",
            "INFO:     27.7.22.252:0 - \"GET /favicon.ico HTTP/1.1\" 404 Not Found\n",
            "INFO:     27.7.22.252:0 - \"GET /docs HTTP/1.1\" 200 OK\n",
            "INFO:     27.7.22.252:0 - \"GET /openapi.json HTTP/1.1\" 200 OK\n",
            "INFO:     27.7.22.252:0 - \"POST /cropprediction HTTP/1.1\" 200 OK\n",
            "INFO:     27.7.22.252:0 - \"POST /cropdiseaseprediction/ HTTP/1.1\" 200 OK\n"
          ]
        },
        {
          "output_type": "stream",
          "name": "stderr",
          "text": [
            "INFO:     Shutting down\n",
            "INFO:     Waiting for application shutdown.\n",
            "INFO:     Application shutdown complete.\n",
            "INFO:     Finished server process [467]\n"
          ]
        }
      ]
    },
    {
      "cell_type": "code",
      "metadata": {
        "id": "xYDNcpEs6zvJ"
      },
      "source": [
        ""
      ],
      "execution_count": null,
      "outputs": []
    }
  ]
}